{
 "cells": [
  {
   "cell_type": "code",
   "execution_count": null,
   "metadata": {},
   "outputs": [],
   "source": [
    "\n",
    "\n",
    "# Adding code for future prediction of Bitcoin prices using Prophet\n",
    "\n",
    "# Step 1: Import necessary libraries\n",
    "import yfinance as yf\n",
    "from prophet import Prophet\n",
    "import pandas as pd\n",
    "import matplotlib.pyplot as plt\n",
    "\n",
    "# Step 2: Fetch historical Bitcoin data\n",
    "btc_data = yf.download('BTC-USD', start='2017-01-01')\n",
    "\n",
    "# Step 3: Prepare the data for Prophet\n",
    "btc_df = btc_data.reset_index()[['Date', 'Close']]\n",
    "btc_df.rename(columns={'Date': 'ds', 'Close': 'y'}, inplace=True)\n",
    "\n",
    "# Step 4: Create and fit the Prophet model\n",
    "model = Prophet(daily_seasonality=True)\n",
    "model.fit(btc_df)\n",
    "\n",
    "# Step 5: Make future predictions\n",
    "future = model.make_future_dataframe(periods=365)  # Predict the next 365 days\n",
    "forecast = model.predict(future)\n",
    "\n",
    "# Step 6: Plot the forecast\n",
    "fig1 = model.plot(forecast)\n",
    "plt.title('Bitcoin Price Forecast')\n",
    "plt.xlabel('Date')\n",
    "plt.ylabel('Price (USD)')\n",
    "plt.show()\n",
    "\n",
    "# Optional: Plot components of the forecast (trends, yearly seasonality, and weekly seasonality)\n",
    "fig2 = model.plot_components(forecast)"
   ]
  }
 ],
 "metadata": {
  "kernelspec": {
   "display_name": "Python 3",
   "language": "python",
   "name": "python3"
  },
  "language_info": {
   "codemirror_mode": {
    "name": "ipython",
    "version": 3
   },
   "file_extension": ".py",
   "mimetype": "text/x-python",
   "name": "python",
   "nbconvert_exporter": "python",
   "pygments_lexer": "ipython3",
   "version": "3.10.0"
  }
 },
 "nbformat": 4,
 "nbformat_minor": 2
}
